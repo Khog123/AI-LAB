{
  "nbformat": 4,
  "nbformat_minor": 0,
  "metadata": {
    "colab": {
      "provenance": [],
      "toc_visible": true
    },
    "kernelspec": {
      "name": "python3",
      "display_name": "Python 3"
    },
    "language_info": {
      "name": "python"
    }
  },
  "cells": [
    {
      "cell_type": "code",
      "execution_count": 24,
      "metadata": {
        "id": "AZ0jAJoF37QE"
      },
      "outputs": [],
      "source": []
    },
    {
      "cell_type": "markdown",
      "source": [
        "## **Lists**"
      ],
      "metadata": {
        "id": "KEEuIaLC47dL"
      }
    },
    {
      "cell_type": "code",
      "source": [
        "num = [1, 22, 56, 5 , 67, 8]\n",
        "print('Numbers', num)\n",
        "\n",
        "#Sum of the Num\n",
        "print('Sum:', sum(num))\n",
        "#Finding the Min Num\n",
        "print('Min:', min(num))\n",
        "#Finding the Max Num\n",
        "print('Max:', max(num))\n",
        "\n",
        "\n",
        "#Add a new element\n",
        "num.append(50)\n",
        "#Removing an existing element\n",
        "num.remove(5)\n",
        "\n",
        "#Updated List\n",
        "print('Updated List:', num)\n",
        "\n",
        "#Sorting list in ascending and descending order\n",
        "print('Ascending',sorted(num))\n",
        "print('Descending',sorted(num, reverse=True))\n"
      ],
      "metadata": {
        "colab": {
          "base_uri": "https://localhost:8080/"
        },
        "id": "bIuLfB5gAVzL",
        "outputId": "8e81ec9b-c6da-4334-a5b2-435a5069ca85"
      },
      "execution_count": 25,
      "outputs": [
        {
          "output_type": "stream",
          "name": "stdout",
          "text": [
            "Numbers [1, 22, 56, 5, 67, 8]\n",
            "Sum: 159\n",
            "Min: 1\n",
            "Max: 67\n",
            "Updated List: [1, 22, 56, 67, 8, 50]\n",
            "Ascending [1, 8, 22, 50, 56, 67]\n",
            "Descending [67, 56, 50, 22, 8, 1]\n"
          ]
        }
      ]
    },
    {
      "cell_type": "markdown",
      "source": [
        "# **Tuples**"
      ],
      "metadata": {
        "id": "DF7njJ-L5CqT"
      }
    },
    {
      "cell_type": "code",
      "source": [
        "#Create 5 strings\n",
        "fruits = ('Apple', 'Mango', 'Banana')\n",
        "names = ('Asif', 'Yawar', 'ali')\n",
        "marks = (99, 98, 100)\n",
        "colors = ('red', 'blue')\n",
        "age = (24, 25, 24)\n",
        "hats = ('cap')\n",
        "print('Second element', fruits[1])\n",
        "print('Third element', names[2])\n",
        "print('First element', marks[2])\n",
        "print('Second element', colors[1])\n",
        "print('Third element', age[2])\n",
        "print(hats)\n",
        "\n",
        "\n",
        "\n",
        "\n",
        "#Convert tuple to Lists\n",
        "fruits_list = list(fruits)\n",
        "fruit_list = 'orange'\n",
        "print('Modified fruit_list', fruits_list)"
      ],
      "metadata": {
        "colab": {
          "base_uri": "https://localhost:8080/"
        },
        "id": "v8xhwN6dE5NM",
        "outputId": "d0474b2a-208d-4091-f5da-c74c6cd868f9"
      },
      "execution_count": 26,
      "outputs": [
        {
          "output_type": "stream",
          "name": "stdout",
          "text": [
            "Second element Mango\n",
            "Third element ali\n",
            "First element 100\n",
            "Second element blue\n",
            "Third element 24\n",
            "cap\n",
            "Modified fruit_list ['Apple', 'Mango', 'Banana']\n"
          ]
        }
      ]
    },
    {
      "cell_type": "markdown",
      "source": [
        "# **Sets**"
      ],
      "metadata": {
        "id": "sk9hoaLh5HVr"
      }
    },
    {
      "cell_type": "code",
      "source": [
        "#create sets\n",
        "set_a = {1, 2 , 3,  4, 5, 6}\n",
        "set_b = {5, 8 , 9 , 6, 5}\n",
        "\n",
        "#union, Intersection, Difference\n",
        "print('Union',set_a | set_b)\n",
        "print('Intersection', set_a & set_b)\n",
        "print('Difference', set_a - set_b)\n"
      ],
      "metadata": {
        "colab": {
          "base_uri": "https://localhost:8080/"
        },
        "id": "qMREXAH3SSuk",
        "outputId": "88de4629-a856-411a-ba82-ea74fef80c79"
      },
      "execution_count": 31,
      "outputs": [
        {
          "output_type": "stream",
          "name": "stdout",
          "text": [
            "Union {1, 2, 3, 4, 5, 6, 8, 9}\n",
            "Intersection {5, 6}\n",
            "Difference {1, 2, 3, 4}\n"
          ]
        }
      ]
    },
    {
      "cell_type": "markdown",
      "source": [
        "# **Dictionaries**"
      ],
      "metadata": {
        "id": "qEUH8qYu5KzT"
      }
    },
    {
      "cell_type": "code",
      "source": [
        "#create a dictionary\n",
        "std_info= {\n",
        "    'name': 'asif nawaz khan',\n",
        "    'Section' : 'C',\n",
        "    'Semester' : '6th'\n",
        "}\n",
        "\n",
        "#change\n",
        "std_info['section'] = 'A'\n",
        "\n",
        "for key,value in std_info.items():\n",
        "  print(f'{key} : {value}')"
      ],
      "metadata": {
        "colab": {
          "base_uri": "https://localhost:8080/"
        },
        "id": "oa339q3TJv8M",
        "outputId": "fd381cc9-de81-4e1f-8571-b28fd6fa2936"
      },
      "execution_count": 30,
      "outputs": [
        {
          "output_type": "stream",
          "name": "stdout",
          "text": [
            "name : asif nawaz khan\n",
            "Section : C\n",
            "Semester : 6th\n",
            "section : A\n"
          ]
        }
      ]
    },
    {
      "cell_type": "markdown",
      "source": [
        "# **Numpy**"
      ],
      "metadata": {
        "id": "N4uekRM-5P7D"
      }
    },
    {
      "cell_type": "markdown",
      "source": [
        "# **Matlib**"
      ],
      "metadata": {
        "id": "X5GhAbzJ5VGz"
      }
    }
  ]
}